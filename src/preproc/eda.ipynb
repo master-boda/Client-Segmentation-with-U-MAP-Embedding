{
 "cells": [
  {
   "cell_type": "code",
   "execution_count": 23,
   "metadata": {},
   "outputs": [],
   "source": [
    "import sys\n",
    "import os\n",
    "import pandas as pd\n",
    "import numpy as np \n",
    "import folium   \n",
    "import matplotlib.pyplot as plt\n",
    "import seaborn as sns\n",
    "from datetime import datetime\n",
    "from sklearn.preprocessing import StandardScaler\n",
    "\n",
    "sys.path.append(os.path.abspath('..'))  # Add the parent directory to the sys.path\n",
    "from utils.utils import *\n",
    "\n",
    "%reload_ext autoreload\n",
    "%autoreload 2"
   ]
  },
  {
   "cell_type": "markdown",
   "metadata": {},
   "source": [
    "# **Data Import and Cleaning**"
   ]
  },
  {
   "cell_type": "code",
   "execution_count": 24,
   "metadata": {},
   "outputs": [],
   "source": [
    "base_dir = os.path.abspath(os.path.join(os.getcwd(), '../../data/raw'))\n",
    "\n",
    "basket_path = os.path.join(base_dir, 'customer_basket.csv')\n",
    "customer_info_path = os.path.join(base_dir, 'customer_info.csv')\n",
    "product_path = os.path.join(base_dir, 'product_mapping.xlsx')\n",
    "\n",
    "basket = pd.read_csv(basket_path, index_col='invoice_id')\n",
    "customer_info = pd.read_csv(customer_info_path, index_col='customer_id')\n",
    "product = pd.read_excel(product_path)"
   ]
  },
  {
   "cell_type": "code",
   "execution_count": 25,
   "metadata": {},
   "outputs": [
    {
     "data": {
      "text/html": [
       "<div>\n",
       "<style scoped>\n",
       "    .dataframe tbody tr th:only-of-type {\n",
       "        vertical-align: middle;\n",
       "    }\n",
       "\n",
       "    .dataframe tbody tr th {\n",
       "        vertical-align: top;\n",
       "    }\n",
       "\n",
       "    .dataframe thead th {\n",
       "        text-align: right;\n",
       "    }\n",
       "</style>\n",
       "<table border=\"1\" class=\"dataframe\">\n",
       "  <thead>\n",
       "    <tr style=\"text-align: right;\">\n",
       "      <th></th>\n",
       "      <th>list_of_goods</th>\n",
       "      <th>customer_id</th>\n",
       "    </tr>\n",
       "    <tr>\n",
       "      <th>invoice_id</th>\n",
       "      <th></th>\n",
       "      <th></th>\n",
       "    </tr>\n",
       "  </thead>\n",
       "  <tbody>\n",
       "    <tr>\n",
       "      <th>7448187</th>\n",
       "      <td>['olive oil', 'yogurt cake', 'grated cheese', ...</td>\n",
       "      <td>43134</td>\n",
       "    </tr>\n",
       "    <tr>\n",
       "      <th>3167314</th>\n",
       "      <td>['babies food', 'shower gel', 'rice', 'black b...</td>\n",
       "      <td>43134</td>\n",
       "    </tr>\n",
       "    <tr>\n",
       "      <th>10199712</th>\n",
       "      <td>['babies food', 'barbecue sauce', 'olive oil',...</td>\n",
       "      <td>43134</td>\n",
       "    </tr>\n",
       "  </tbody>\n",
       "</table>\n",
       "</div>"
      ],
      "text/plain": [
       "                                                list_of_goods  customer_id\n",
       "invoice_id                                                                \n",
       "7448187     ['olive oil', 'yogurt cake', 'grated cheese', ...        43134\n",
       "3167314     ['babies food', 'shower gel', 'rice', 'black b...        43134\n",
       "10199712    ['babies food', 'barbecue sauce', 'olive oil',...        43134"
      ]
     },
     "execution_count": 25,
     "metadata": {},
     "output_type": "execute_result"
    }
   ],
   "source": [
    "basket.head(3)"
   ]
  },
  {
   "cell_type": "code",
   "execution_count": 26,
   "metadata": {},
   "outputs": [
    {
     "data": {
      "text/html": [
       "<div>\n",
       "<style scoped>\n",
       "    .dataframe tbody tr th:only-of-type {\n",
       "        vertical-align: middle;\n",
       "    }\n",
       "\n",
       "    .dataframe tbody tr th {\n",
       "        vertical-align: top;\n",
       "    }\n",
       "\n",
       "    .dataframe thead th {\n",
       "        text-align: right;\n",
       "    }\n",
       "</style>\n",
       "<table border=\"1\" class=\"dataframe\">\n",
       "  <thead>\n",
       "    <tr style=\"text-align: right;\">\n",
       "      <th></th>\n",
       "      <th>product_name</th>\n",
       "      <th>category</th>\n",
       "    </tr>\n",
       "  </thead>\n",
       "  <tbody>\n",
       "    <tr>\n",
       "      <th>0</th>\n",
       "      <td>champagne</td>\n",
       "      <td>alcohol_drinks</td>\n",
       "    </tr>\n",
       "    <tr>\n",
       "      <th>1</th>\n",
       "      <td>bramble</td>\n",
       "      <td>alcohol_drinks</td>\n",
       "    </tr>\n",
       "    <tr>\n",
       "      <th>2</th>\n",
       "      <td>white wine</td>\n",
       "      <td>alcohol_drinks</td>\n",
       "    </tr>\n",
       "  </tbody>\n",
       "</table>\n",
       "</div>"
      ],
      "text/plain": [
       "  product_name        category\n",
       "0    champagne  alcohol_drinks\n",
       "1      bramble  alcohol_drinks\n",
       "2   white wine  alcohol_drinks"
      ]
     },
     "execution_count": 26,
     "metadata": {},
     "output_type": "execute_result"
    }
   ],
   "source": [
    "product.head(3)"
   ]
  },
  {
   "cell_type": "code",
   "execution_count": 27,
   "metadata": {},
   "outputs": [
    {
     "data": {
      "text/html": [
       "<div>\n",
       "<style scoped>\n",
       "    .dataframe tbody tr th:only-of-type {\n",
       "        vertical-align: middle;\n",
       "    }\n",
       "\n",
       "    .dataframe tbody tr th {\n",
       "        vertical-align: top;\n",
       "    }\n",
       "\n",
       "    .dataframe thead th {\n",
       "        text-align: right;\n",
       "    }\n",
       "</style>\n",
       "<table border=\"1\" class=\"dataframe\">\n",
       "  <thead>\n",
       "    <tr style=\"text-align: right;\">\n",
       "      <th></th>\n",
       "      <th>Unnamed: 0</th>\n",
       "      <th>customer_name</th>\n",
       "      <th>customer_gender</th>\n",
       "      <th>customer_birthdate</th>\n",
       "      <th>kids_home</th>\n",
       "      <th>teens_home</th>\n",
       "      <th>number_complaints</th>\n",
       "      <th>distinct_stores_visited</th>\n",
       "      <th>lifetime_spend_groceries</th>\n",
       "      <th>lifetime_spend_electronics</th>\n",
       "      <th>...</th>\n",
       "      <th>lifetime_spend_fish</th>\n",
       "      <th>lifetime_spend_hygiene</th>\n",
       "      <th>lifetime_spend_videogames</th>\n",
       "      <th>lifetime_spend_petfood</th>\n",
       "      <th>lifetime_total_distinct_products</th>\n",
       "      <th>percentage_of_products_bought_promotion</th>\n",
       "      <th>year_first_transaction</th>\n",
       "      <th>loyalty_card_number</th>\n",
       "      <th>latitude</th>\n",
       "      <th>longitude</th>\n",
       "    </tr>\n",
       "    <tr>\n",
       "      <th>customer_id</th>\n",
       "      <th></th>\n",
       "      <th></th>\n",
       "      <th></th>\n",
       "      <th></th>\n",
       "      <th></th>\n",
       "      <th></th>\n",
       "      <th></th>\n",
       "      <th></th>\n",
       "      <th></th>\n",
       "      <th></th>\n",
       "      <th></th>\n",
       "      <th></th>\n",
       "      <th></th>\n",
       "      <th></th>\n",
       "      <th></th>\n",
       "      <th></th>\n",
       "      <th></th>\n",
       "      <th></th>\n",
       "      <th></th>\n",
       "      <th></th>\n",
       "      <th></th>\n",
       "    </tr>\n",
       "  </thead>\n",
       "  <tbody>\n",
       "    <tr>\n",
       "      <th>39634</th>\n",
       "      <td>0</td>\n",
       "      <td>David Frink</td>\n",
       "      <td>male</td>\n",
       "      <td>05/15/1964 10:34 PM</td>\n",
       "      <td>1.0</td>\n",
       "      <td>1.0</td>\n",
       "      <td>1.0</td>\n",
       "      <td>2.0</td>\n",
       "      <td>18306.0</td>\n",
       "      <td>7106.0</td>\n",
       "      <td>...</td>\n",
       "      <td>4056.0</td>\n",
       "      <td>2174.0</td>\n",
       "      <td>3946.0</td>\n",
       "      <td>2514.0</td>\n",
       "      <td>32.0</td>\n",
       "      <td>0.072206</td>\n",
       "      <td>2010.0</td>\n",
       "      <td>NaN</td>\n",
       "      <td>38.735637</td>\n",
       "      <td>-9.149071</td>\n",
       "    </tr>\n",
       "    <tr>\n",
       "      <th>43460</th>\n",
       "      <td>1</td>\n",
       "      <td>Belinda Terry</td>\n",
       "      <td>female</td>\n",
       "      <td>03/26/1988 11:06 PM</td>\n",
       "      <td>1.0</td>\n",
       "      <td>0.0</td>\n",
       "      <td>1.0</td>\n",
       "      <td>2.0</td>\n",
       "      <td>5015.0</td>\n",
       "      <td>1334.0</td>\n",
       "      <td>...</td>\n",
       "      <td>1925.0</td>\n",
       "      <td>2115.0</td>\n",
       "      <td>1028.0</td>\n",
       "      <td>1987.0</td>\n",
       "      <td>2566.0</td>\n",
       "      <td>0.206227</td>\n",
       "      <td>2014.0</td>\n",
       "      <td>NaN</td>\n",
       "      <td>38.762702</td>\n",
       "      <td>-9.160802</td>\n",
       "    </tr>\n",
       "    <tr>\n",
       "      <th>23937</th>\n",
       "      <td>2</td>\n",
       "      <td>Evelyn Calico</td>\n",
       "      <td>female</td>\n",
       "      <td>04/13/1969 06:07 PM</td>\n",
       "      <td>0.0</td>\n",
       "      <td>1.0</td>\n",
       "      <td>1.0</td>\n",
       "      <td>3.0</td>\n",
       "      <td>3097.0</td>\n",
       "      <td>4073.0</td>\n",
       "      <td>...</td>\n",
       "      <td>2347.0</td>\n",
       "      <td>1306.0</td>\n",
       "      <td>1504.0</td>\n",
       "      <td>2018.0</td>\n",
       "      <td>1282.0</td>\n",
       "      <td>0.136168</td>\n",
       "      <td>2009.0</td>\n",
       "      <td>951127.0</td>\n",
       "      <td>38.717431</td>\n",
       "      <td>-9.165105</td>\n",
       "    </tr>\n",
       "  </tbody>\n",
       "</table>\n",
       "<p>3 rows × 25 columns</p>\n",
       "</div>"
      ],
      "text/plain": [
       "             Unnamed: 0  customer_name customer_gender   customer_birthdate  \\\n",
       "customer_id                                                                   \n",
       "39634                 0    David Frink            male  05/15/1964 10:34 PM   \n",
       "43460                 1  Belinda Terry          female  03/26/1988 11:06 PM   \n",
       "23937                 2  Evelyn Calico          female  04/13/1969 06:07 PM   \n",
       "\n",
       "             kids_home  teens_home  number_complaints  \\\n",
       "customer_id                                             \n",
       "39634              1.0         1.0                1.0   \n",
       "43460              1.0         0.0                1.0   \n",
       "23937              0.0         1.0                1.0   \n",
       "\n",
       "             distinct_stores_visited  lifetime_spend_groceries  \\\n",
       "customer_id                                                      \n",
       "39634                            2.0                   18306.0   \n",
       "43460                            2.0                    5015.0   \n",
       "23937                            3.0                    3097.0   \n",
       "\n",
       "             lifetime_spend_electronics  ...  lifetime_spend_fish  \\\n",
       "customer_id                              ...                        \n",
       "39634                            7106.0  ...               4056.0   \n",
       "43460                            1334.0  ...               1925.0   \n",
       "23937                            4073.0  ...               2347.0   \n",
       "\n",
       "             lifetime_spend_hygiene  lifetime_spend_videogames  \\\n",
       "customer_id                                                      \n",
       "39634                        2174.0                     3946.0   \n",
       "43460                        2115.0                     1028.0   \n",
       "23937                        1306.0                     1504.0   \n",
       "\n",
       "             lifetime_spend_petfood  lifetime_total_distinct_products  \\\n",
       "customer_id                                                             \n",
       "39634                        2514.0                              32.0   \n",
       "43460                        1987.0                            2566.0   \n",
       "23937                        2018.0                            1282.0   \n",
       "\n",
       "             percentage_of_products_bought_promotion  year_first_transaction  \\\n",
       "customer_id                                                                    \n",
       "39634                                       0.072206                  2010.0   \n",
       "43460                                       0.206227                  2014.0   \n",
       "23937                                       0.136168                  2009.0   \n",
       "\n",
       "             loyalty_card_number   latitude  longitude  \n",
       "customer_id                                             \n",
       "39634                        NaN  38.735637  -9.149071  \n",
       "43460                        NaN  38.762702  -9.160802  \n",
       "23937                   951127.0  38.717431  -9.165105  \n",
       "\n",
       "[3 rows x 25 columns]"
      ]
     },
     "execution_count": 27,
     "metadata": {},
     "output_type": "execute_result"
    }
   ],
   "source": [
    "customer_info.head(3)"
   ]
  },
  {
   "cell_type": "markdown",
   "metadata": {},
   "source": [
    "### **Refactoring and Data Type Conversion**"
   ]
  },
  {
   "cell_type": "code",
   "execution_count": 28,
   "metadata": {},
   "outputs": [],
   "source": [
    "# remove repeating prefixes in column names to increase readability\n",
    "customer_info_refactored = refactor_column_names(customer_info)\n",
    "\n",
    "# drop the first column which is the index\n",
    "customer_info_refactored = customer_info.drop('Unnamed: 0', axis= 1)\n",
    "\n",
    "# swap \"birthdate\" column with \"age\" column\n",
    "customer_info_refactored = calculate_age(customer_info_refactored, 'birthdate')\n",
    "customer_info_refactored.drop('birthdate', axis=1, inplace=True)\n",
    "\n",
    "# swap \"loyalty_card_number\" column with \"loyalty_member\" column\n",
    "customer_info_refactored['loyalty_member'] = np.where(customer_info_refactored['loyalty_card_number'].isna(), 0, 1)\n",
    "customer_info_refactored.drop('loyalty_card_number', axis=1, inplace=True)\n",
    "\n",
    "# swap \"year_first_transaction\" column with \"years_as_customer\" column\n",
    "customer_info_refactored['years_as_customer'] = datetime.now().year - customer_info_refactored['year_first_transaction']\n",
    "customer_info_refactored.drop('year_first_transaction', axis=1, inplace=True)\n",
    "\n",
    "# extract the education years from the \"name\" column\n",
    "customer_info_refactored = add_education_years(customer_info_refactored, 'name')\n",
    "customer_info_refactored.drop('name', axis=1, inplace=True)\n",
    "\n",
    "# change the coordinates to a geohaash\n",
    "customer_info_refactored = geohash_loc(customer_info_refactored, 'latitude', 'longitude')\n",
    "customer_info_refactored.drop(['latitude', 'longitude'], axis=1, inplace=True)\n",
    "\n",
    "# change gender from string to binary\n",
    "customer_info_refactored['gender_binary'] = np.where(customer_info_refactored['gender'] == 'male', 1, 0)\n",
    "customer_info_refactored.drop(columns='gender', inplace=True)"
   ]
  },
  {
   "cell_type": "code",
   "execution_count": 29,
   "metadata": {},
   "outputs": [
    {
     "data": {
      "text/html": [
       "<div>\n",
       "<style scoped>\n",
       "    .dataframe tbody tr th:only-of-type {\n",
       "        vertical-align: middle;\n",
       "    }\n",
       "\n",
       "    .dataframe tbody tr th {\n",
       "        vertical-align: top;\n",
       "    }\n",
       "\n",
       "    .dataframe thead th {\n",
       "        text-align: right;\n",
       "    }\n",
       "</style>\n",
       "<table border=\"1\" class=\"dataframe\">\n",
       "  <thead>\n",
       "    <tr style=\"text-align: right;\">\n",
       "      <th></th>\n",
       "      <th>kids_home</th>\n",
       "      <th>teens_home</th>\n",
       "      <th>number_complaints</th>\n",
       "      <th>distinct_stores_visited</th>\n",
       "      <th>spend_groceries</th>\n",
       "      <th>spend_electronics</th>\n",
       "      <th>typical_hour</th>\n",
       "      <th>spend_vegetables</th>\n",
       "      <th>spend_nonalcohol_drinks</th>\n",
       "      <th>spend_alcohol_drinks</th>\n",
       "      <th>...</th>\n",
       "      <th>spend_videogames</th>\n",
       "      <th>spend_petfood</th>\n",
       "      <th>total_distinct_products</th>\n",
       "      <th>percentage_of_products_bought_promotion</th>\n",
       "      <th>age</th>\n",
       "      <th>loyalty_member</th>\n",
       "      <th>years_as_customer</th>\n",
       "      <th>educ_years</th>\n",
       "      <th>geo</th>\n",
       "      <th>gender_binary</th>\n",
       "    </tr>\n",
       "    <tr>\n",
       "      <th>customer_id</th>\n",
       "      <th></th>\n",
       "      <th></th>\n",
       "      <th></th>\n",
       "      <th></th>\n",
       "      <th></th>\n",
       "      <th></th>\n",
       "      <th></th>\n",
       "      <th></th>\n",
       "      <th></th>\n",
       "      <th></th>\n",
       "      <th></th>\n",
       "      <th></th>\n",
       "      <th></th>\n",
       "      <th></th>\n",
       "      <th></th>\n",
       "      <th></th>\n",
       "      <th></th>\n",
       "      <th></th>\n",
       "      <th></th>\n",
       "      <th></th>\n",
       "      <th></th>\n",
       "    </tr>\n",
       "  </thead>\n",
       "  <tbody>\n",
       "    <tr>\n",
       "      <th>39634</th>\n",
       "      <td>1.0</td>\n",
       "      <td>1.0</td>\n",
       "      <td>1.0</td>\n",
       "      <td>2.0</td>\n",
       "      <td>18306.0</td>\n",
       "      <td>7106.0</td>\n",
       "      <td>17.0</td>\n",
       "      <td>484.0</td>\n",
       "      <td>604.0</td>\n",
       "      <td>943.0</td>\n",
       "      <td>...</td>\n",
       "      <td>3946.0</td>\n",
       "      <td>2514.0</td>\n",
       "      <td>32.0</td>\n",
       "      <td>0.072206</td>\n",
       "      <td>60</td>\n",
       "      <td>0</td>\n",
       "      <td>14.0</td>\n",
       "      <td>12</td>\n",
       "      <td>435828255602</td>\n",
       "      <td>1</td>\n",
       "    </tr>\n",
       "    <tr>\n",
       "      <th>43460</th>\n",
       "      <td>1.0</td>\n",
       "      <td>0.0</td>\n",
       "      <td>1.0</td>\n",
       "      <td>2.0</td>\n",
       "      <td>5015.0</td>\n",
       "      <td>1334.0</td>\n",
       "      <td>8.0</td>\n",
       "      <td>344.0</td>\n",
       "      <td>374.0</td>\n",
       "      <td>1217.0</td>\n",
       "      <td>...</td>\n",
       "      <td>1028.0</td>\n",
       "      <td>1987.0</td>\n",
       "      <td>2566.0</td>\n",
       "      <td>0.206227</td>\n",
       "      <td>36</td>\n",
       "      <td>0</td>\n",
       "      <td>10.0</td>\n",
       "      <td>12</td>\n",
       "      <td>435828255608</td>\n",
       "      <td>0</td>\n",
       "    </tr>\n",
       "    <tr>\n",
       "      <th>23937</th>\n",
       "      <td>0.0</td>\n",
       "      <td>1.0</td>\n",
       "      <td>1.0</td>\n",
       "      <td>3.0</td>\n",
       "      <td>3097.0</td>\n",
       "      <td>4073.0</td>\n",
       "      <td>10.0</td>\n",
       "      <td>301.0</td>\n",
       "      <td>852.0</td>\n",
       "      <td>1731.0</td>\n",
       "      <td>...</td>\n",
       "      <td>1504.0</td>\n",
       "      <td>2018.0</td>\n",
       "      <td>1282.0</td>\n",
       "      <td>0.136168</td>\n",
       "      <td>55</td>\n",
       "      <td>1</td>\n",
       "      <td>15.0</td>\n",
       "      <td>12</td>\n",
       "      <td>435828255602</td>\n",
       "      <td>0</td>\n",
       "    </tr>\n",
       "  </tbody>\n",
       "</table>\n",
       "<p>3 rows × 23 columns</p>\n",
       "</div>"
      ],
      "text/plain": [
       "             kids_home  teens_home  number_complaints  \\\n",
       "customer_id                                             \n",
       "39634              1.0         1.0                1.0   \n",
       "43460              1.0         0.0                1.0   \n",
       "23937              0.0         1.0                1.0   \n",
       "\n",
       "             distinct_stores_visited  spend_groceries  spend_electronics  \\\n",
       "customer_id                                                                \n",
       "39634                            2.0          18306.0             7106.0   \n",
       "43460                            2.0           5015.0             1334.0   \n",
       "23937                            3.0           3097.0             4073.0   \n",
       "\n",
       "             typical_hour  spend_vegetables  spend_nonalcohol_drinks  \\\n",
       "customer_id                                                            \n",
       "39634                17.0             484.0                    604.0   \n",
       "43460                 8.0             344.0                    374.0   \n",
       "23937                10.0             301.0                    852.0   \n",
       "\n",
       "             spend_alcohol_drinks  ...  spend_videogames  spend_petfood  \\\n",
       "customer_id                        ...                                    \n",
       "39634                       943.0  ...            3946.0         2514.0   \n",
       "43460                      1217.0  ...            1028.0         1987.0   \n",
       "23937                      1731.0  ...            1504.0         2018.0   \n",
       "\n",
       "             total_distinct_products  percentage_of_products_bought_promotion  \\\n",
       "customer_id                                                                     \n",
       "39634                           32.0                                 0.072206   \n",
       "43460                         2566.0                                 0.206227   \n",
       "23937                         1282.0                                 0.136168   \n",
       "\n",
       "             age  loyalty_member  years_as_customer  educ_years           geo  \\\n",
       "customer_id                                                                     \n",
       "39634         60               0               14.0          12  435828255602   \n",
       "43460         36               0               10.0          12  435828255608   \n",
       "23937         55               1               15.0          12  435828255602   \n",
       "\n",
       "             gender_binary  \n",
       "customer_id                 \n",
       "39634                    1  \n",
       "43460                    0  \n",
       "23937                    0  \n",
       "\n",
       "[3 rows x 23 columns]"
      ]
     },
     "execution_count": 29,
     "metadata": {},
     "output_type": "execute_result"
    }
   ],
   "source": [
    "customer_info_refactored.head(3)"
   ]
  },
  {
   "cell_type": "markdown",
   "metadata": {},
   "source": [
    "### **Scaling and Encoding**"
   ]
  },
  {
   "cell_type": "markdown",
   "metadata": {},
   "source": [
    "Necessary to apply scaling for KNN imputation and DBSCAN outlier detection to work properly."
   ]
  },
  {
   "cell_type": "code",
   "execution_count": null,
   "metadata": {},
   "outputs": [],
   "source": [
    "num_cols = ['kids_home', 'teens_home', 'number_complaints', 'distinct_stores_visited', 'spend_groceries', 'spend_electronics',\n",
    "            'typical_hour', 'spend_vegetables', 'spend_nonalcohol_drinks', 'spend_alcohol_drinks', 'spend_meat', 'spend_fish',\n",
    "            'spend_hygiene', 'spend_videogames', 'spend_petfood', 'total_distinct_products','percentage_of_products_bought_promotion',\n",
    "            'age', 'years_as_customer', 'educ_years', 'geo']"
   ]
  },
  {
   "cell_type": "markdown",
   "metadata": {},
   "source": [
    "## **Missing Values and Inconsistency Checking**"
   ]
  },
  {
   "cell_type": "markdown",
   "metadata": {},
   "source": [
    "### **Missing Values**"
   ]
  },
  {
   "cell_type": "code",
   "execution_count": 50,
   "metadata": {},
   "outputs": [
    {
     "data": {
      "text/plain": [
       "invoice_id       0\n",
       "list_of_goods    0\n",
       "customer_id      0\n",
       "dtype: int64"
      ]
     },
     "execution_count": 50,
     "metadata": {},
     "output_type": "execute_result"
    }
   ],
   "source": [
    "basket.isna().sum()"
   ]
  },
  {
   "cell_type": "code",
   "execution_count": 51,
   "metadata": {},
   "outputs": [
    {
     "data": {
      "text/plain": [
       "product_name    0\n",
       "category        0\n",
       "dtype: int64"
      ]
     },
     "execution_count": 51,
     "metadata": {},
     "output_type": "execute_result"
    }
   ],
   "source": [
    "product.isna().sum()"
   ]
  },
  {
   "cell_type": "code",
   "execution_count": 49,
   "metadata": {},
   "outputs": [
    {
     "data": {
      "text/plain": [
       "name                                          0\n",
       "gender                                        0\n",
       "kids_home                                   524\n",
       "teens_home                                 1021\n",
       "number_complaints                           654\n",
       "distinct_stores_visited                    1309\n",
       "spend_groceries                               0\n",
       "spend_electronics                             0\n",
       "typical_hour                               1745\n",
       "spend_vegetables                            873\n",
       "spend_nonalcohol_drinks                       0\n",
       "spend_alcohol_drinks                          0\n",
       "spend_meat                                    0\n",
       "spend_fish                                 1309\n",
       "spend_hygiene                                 0\n",
       "spend_videogames                              0\n",
       "spend_petfood                                 0\n",
       "total_distinct_products                       0\n",
       "percentage_of_products_bought_promotion       0\n",
       "latitude                                      0\n",
       "longitude                                     0\n",
       "age                                           0\n",
       "loyalty_member                                0\n",
       "years_as_customer                             0\n",
       "dtype: int64"
      ]
     },
     "execution_count": 49,
     "metadata": {},
     "output_type": "execute_result"
    }
   ],
   "source": [
    "customer_info_refactored.isna().sum()"
   ]
  },
  {
   "cell_type": "code",
   "execution_count": 48,
   "metadata": {},
   "outputs": [
    {
     "name": "stdout",
     "output_type": "stream",
     "text": [
      "Percentage of missing values in each column with missing data:\n",
      "kids_home                  1.20\n",
      "teens_home                 2.34\n",
      "number_complaints          1.50\n",
      "distinct_stores_visited    3.00\n",
      "typical_hour               4.00\n",
      "spend_vegetables           2.00\n",
      "spend_fish                 3.00\n",
      "dtype: float64\n",
      "\n",
      "Percentage of missing values in the entire DataFrame: 0.71\n"
     ]
    }
   ],
   "source": [
    "missing_percentage_per_column = round(((customer_info_refactored.isnull().sum() / len(customer_info_refactored)) * 100), 2)\n",
    "\n",
    "columns_with_missing_values = missing_percentage_per_column[missing_percentage_per_column > 0]\n",
    "\n",
    "total_missing_percentage = (customer_info_refactored.isnull().sum().sum() / (customer_info_refactored.shape[0] * customer_info_refactored.shape[1])) * 100\n",
    "\n",
    "print(\"Percentage of missing values in each column with missing data:\")\n",
    "print(columns_with_missing_values)\n",
    "print(\"\\nPercentage of missing values in the entire DataFrame:\", round(total_missing_percentage, 2))"
   ]
  },
  {
   "cell_type": "markdown",
   "metadata": {},
   "source": [
    "### **Imputation**"
   ]
  },
  {
   "cell_type": "markdown",
   "metadata": {},
   "source": [
    "### **Inconsistency Checking**\n"
   ]
  },
  {
   "cell_type": "code",
   "execution_count": 52,
   "metadata": {},
   "outputs": [
    {
     "name": "stdout",
     "output_type": "stream",
     "text": [
      "Number of duplicates removed from the basket dataset: 0\n",
      "Number of duplicates removed from the customer_info_refactored dataset: 0\n",
      "Number of duplicates removed from the product dataset: 1\n"
     ]
    }
   ],
   "source": [
    "datasets = {\n",
    "    \"basket\": basket,\n",
    "    \"customer_info_refactored\": customer_info_refactored,\n",
    "    \"product\": product\n",
    "}\n",
    "\n",
    "for name, dataset in datasets.items():\n",
    "    print(f\"Number of duplicates removed from the {name} dataset: {dataset.duplicated().sum()}\")\n",
    "    dataset.drop_duplicates(inplace=True)\n"
   ]
  },
  {
   "cell_type": "markdown",
   "metadata": {},
   "source": [
    "# **Data Transformations**"
   ]
  },
  {
   "cell_type": "markdown",
   "metadata": {},
   "source": [
    "### **Feature Engineering**"
   ]
  },
  {
   "cell_type": "markdown",
   "metadata": {},
   "source": [
    "### **Scaling**"
   ]
  },
  {
   "cell_type": "markdown",
   "metadata": {},
   "source": [
    "### **Feature Selection**"
   ]
  },
  {
   "cell_type": "markdown",
   "metadata": {},
   "source": []
  }
 ],
 "metadata": {
  "kernelspec": {
   "display_name": "Python 3",
   "language": "python",
   "name": "python3"
  },
  "language_info": {
   "codemirror_mode": {
    "name": "ipython",
    "version": 3
   },
   "file_extension": ".py",
   "mimetype": "text/x-python",
   "name": "python",
   "nbconvert_exporter": "python",
   "pygments_lexer": "ipython3",
   "version": "3.10.0"
  }
 },
 "nbformat": 4,
 "nbformat_minor": 2
}
